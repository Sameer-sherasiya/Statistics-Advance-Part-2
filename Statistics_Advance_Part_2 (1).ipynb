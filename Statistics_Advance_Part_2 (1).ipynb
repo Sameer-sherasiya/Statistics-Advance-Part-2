{
  "nbformat": 4,
  "nbformat_minor": 0,
  "metadata": {
    "colab": {
      "provenance": [],
      "toc_visible": true,
      "collapsed_sections": [
        "q-DhSsjZ25Ox"
      ]
    },
    "kernelspec": {
      "name": "python3",
      "display_name": "Python 3"
    },
    "language_info": {
      "name": "python"
    }
  },
  "cells": [
    {
      "cell_type": "markdown",
      "source": [
        "# Statistic Advance Part 2"
      ],
      "metadata": {
        "id": "q-DhSsjZ25Ox"
      }
    },
    {
      "cell_type": "markdown",
      "source": [
        "1.What is hypothesis testing in statistics?\n",
        "  - Hypothesis testing is a statistical method use to determine whether there is enough evidence ro reject a null hypothesis. It evaluates assumptions or claims about a population based on sample data."
      ],
      "metadata": {
        "id": "f8HMOD3P3KPZ"
      }
    },
    {
      "cell_type": "markdown",
      "source": [
        "2.What is the null hypothesis, and how dose it differ from the alternative hypothesis?\n",
        "  - **Null** **Hypothesis** (**H**0): A statement of no effect, no difference, or status quo,assumed to be true unless evidens suggests otherwise.\n",
        "  - **Alternative** **Hypothesis** (**H**1): A statement that contradicts the null hypothesis, repressenting the effect or difference being tested.\n",
        "  The null hypothesis is rejected if the evidence supports the alternative hypothesis."
      ],
      "metadata": {
        "id": "YG8u9JZQ3KA0"
      }
    },
    {
      "cell_type": "markdown",
      "source": [
        "3.What is the significance level in hypothesis testing, and why is it important?\n",
        "  - The significance level (alfa) is the threshold probability for rejecting the null hypothesis. Commonly set at 0.05, it represents the probability of making a Type I error (false positive). It determines the rigor of the test."
      ],
      "metadata": {
        "id": "oV67erH93Jzy"
      }
    },
    {
      "cell_type": "markdown",
      "source": [
        "4.What dose a P-value represent in hypothesis testing?\n",
        "  - The P-value measures the probability of obtaining the observed sample results, or more extreme, assuming the null hypothesis is true. It quantifies the strenght of evidence against **H**0."
      ],
      "metadata": {
        "id": "FAeKzME23JlO"
      }
    },
    {
      "cell_type": "markdown",
      "source": [
        "5.how do you interpret the P-value in hypothesis testing?\n",
        "  - If P-value <= alfa : Reject the null hypothesis (evidence supports **H**1).\n",
        "  - If P-value > alfa : Fail to reject the null hypothesis (insufficient evidence to support **H**1)."
      ],
      "metadata": {
        "id": "iPx0RDnH3JYN"
      }
    },
    {
      "cell_type": "markdown",
      "source": [
        "6.what are Type 1 and Type 2 error in hypothesis testing?\n",
        "  - **Type** **I** **Error** (alfa): Rejecting a true null hypotesis (false positive).\n",
        "  - **Type** **II** **Error** (bita): Failing to reject a false null hypothesis (false negative)."
      ],
      "metadata": {
        "id": "0E8m9mdK3JK-"
      }
    },
    {
      "cell_type": "markdown",
      "source": [
        "7.What is the difference between a one-tailed and a two-tailed test in hypothesis testing?\n",
        "  - **One*-*tailed** **test**: Tests for an effect in one direction (e.g., greate than or less than).\n",
        "  - **Two**-**tailed** **test**: Tests for an effect in both directions (e.g., different from)."
      ],
      "metadata": {
        "id": "GEA2HkXL3I-o"
      }
    },
    {
      "cell_type": "markdown",
      "source": [
        "8.What is the Z-test, and when is it used in hypothesis testing?\n",
        "  - A Z-test is used to compare sample and population means when the population means when the population variance is known, and the sample size is large (n>30). It assumes normality."
      ],
      "metadata": {
        "id": "n-l1sNFh3Ixu"
      }
    },
    {
      "cell_type": "markdown",
      "source": [
        "9.How do you calculate the Z-score, and what does it represent in hypothesis testing?\n",
        "   - The Z-score is calculated as:\n",
        "           \n",
        "    It represents the number of standard deviations a sample mean is from the population mean."
      ],
      "metadata": {
        "id": "bemkW2hWWpeB"
      }
    },
    {
      "cell_type": "markdown",
      "source": [
        "10.What is the T-distribution, and when should it be used instead of the normal ditribution?\n",
        " - The T-distribution is used when the sample size is small (n<=30) and the population variance is unknown. It has heavier tails, accommodating more variability."
      ],
      "metadata": {
        "id": "Nf5Awmay3IlP"
      }
    },
    {
      "cell_type": "markdown",
      "source": [
        "11.What is the difference between a Z-test and a T-test?\n",
        "  - **Z**-**test**: Used with large samples and known populatin variance.\n",
        "  - **T**-**test**: Used with small sample and unknown population variance."
      ],
      "metadata": {
        "id": "Op1ChiE73IW7"
      }
    },
    {
      "cell_type": "markdown",
      "source": [
        "12.What is the T-test, and how is it used in hypothesis testing?\n",
        "  - The T-test assesses wheather the means os two groups are statistically different. It is applide in scenarios such as paired sample, indemendent samples, or comparing a sample to a population."
      ],
      "metadata": {
        "id": "kNJKtDgg3IJI"
      }
    },
    {
      "cell_type": "markdown",
      "source": [
        "13.What is the relationship between Z-test and T-test in hypothesis testing?\n",
        "  - Both tests compare means, but the T-test is for smaller or more variable data, while the Z-test for large sample with known variance."
      ],
      "metadata": {
        "id": "dY21qb-U3H5x"
      }
    },
    {
      "cell_type": "markdown",
      "source": [
        "14.What is a confidence interval, and how is it used to interpret statistical result?\n",
        "  - A confidence interval estimares a range of value within which the true population parameter is likely to lie, which a given confidence level (e.g.95%)."
      ],
      "metadata": {
        "id": "RUrIVofG3Hrd"
      }
    },
    {
      "cell_type": "markdown",
      "source": [
        "15.What is the margin of error, and how does it affect the confidence interval?\n",
        "  - The margin of error quantifier the maximum expected difference between the sample estimate and the true population value. A large margin results in a wider confidence interval."
      ],
      "metadata": {
        "id": "Oj53Lj9F3He-"
      }
    },
    {
      "cell_type": "markdown",
      "source": [
        "16.How is Bayes' Theorem used in statistics, and when is it used?\n",
        "  - Bayes' Theorem calculates conditional probability. It updates the probability of a hypothesis based on new evidence and is foundational in Bayesian statistics."
      ],
      "metadata": {
        "id": "d93z50Hi3HRt"
      }
    },
    {
      "cell_type": "markdown",
      "source": [
        "17.What is the Chi-square distribution, and when is it used?\n",
        "  - The Chi-square distribution is used for categorical data to assess the goodness of fit or independence in contingency tables."
      ],
      "metadata": {
        "id": "SSvm_HnM3HEN"
      }
    },
    {
      "cell_type": "markdown",
      "source": [
        "18.What is the Chi-square goodness of fit test, and how is it applied?\n",
        "  - This test determines whether an observed frequency distribution matches an expected distribution. It's applide to test categorical variable distributions."
      ],
      "metadata": {
        "id": "3vxO6_6o3G2I"
      }
    },
    {
      "cell_type": "markdown",
      "source": [
        "19.What is the F-distribution, and when is it used in hypothesis testing?\n",
        "  - The F-distribution is used to compare variances between groups, commonly in ANOVA and regression analyses."
      ],
      "metadata": {
        "id": "VS3DNdyl3Go3"
      }
    },
    {
      "cell_type": "markdown",
      "source": [
        "20.What is an ANOVA test, and when is it used in hypothesis testing?\n",
        "  - ANOVA test whether the means of three or more groups are significantly different. Assumptionas include:\n",
        "   - Independence of observation.\n",
        "   - Homogeneity of variances.\n",
        "   - Normally distributed groups."
      ],
      "metadata": {
        "id": "wam7Sh5Z3GdL"
      }
    },
    {
      "cell_type": "markdown",
      "source": [
        "21.What are the different types of ANOVA tests?\n",
        "  - **One**-**way** **ANOVA**: Compares means across one factor.\n",
        "  - **Two**-**way** **ANOVA**: Compares means across two factors, with or without interaction.\n",
        "  - **Repeated** **measures** **ANOVA**: For data collected repeatedly on the same subjects."
      ],
      "metadata": {
        "id": "rGme_h6E3GP4"
      }
    },
    {
      "cell_type": "markdown",
      "source": [
        "22.What is the F-test, and how does it relate to hypothesis testing?\n",
        "  - The F-test compares variance between groups. It is the basis for ANOVA and regression models, testing if the variance explained by the model is significant."
      ],
      "metadata": {
        "id": "CTCsMQql3GDJ"
      }
    },
    {
      "cell_type": "markdown",
      "source": [
        "# Practical"
      ],
      "metadata": {
        "id": "OBI5Zm3t25WX"
      }
    },
    {
      "cell_type": "markdown",
      "source": [
        "1.Write a Python program to perform a Z-test for comparing a sample mean to a population mean and interpret the result.\n"
      ],
      "metadata": {
        "id": "n0_V5kjL7Rr_"
      }
    },
    {
      "cell_type": "code",
      "source": [
        "from scipy.stats import norm\n",
        "import numpy as np\n",
        "\n",
        "def z_test(sample_mean, population_mean, population_std, sample_size, alpha=0.05):\n",
        "    z_score = (sample_mean - population_mean) / (population_std / np.sqrt(sample_size))\n",
        "    p_value = 2 * (1 - norm.cdf(abs(z_score)))\n",
        "    result = \"Reject the null hypothesis\" if p_value < alpha else \"Fail to reject the null hypothesis\"\n",
        "\n",
        "    print(f\"Z-score: {z_score}\")\n",
        "    print(f\"P-value: {p_value}\")\n",
        "    print(f\"Decision: {result}\")\n",
        "\n",
        "z_test(sample_mean=50, population_mean=52, population_std=10, sample_size=30)"
      ],
      "metadata": {
        "colab": {
          "base_uri": "https://localhost:8080/"
        },
        "id": "giDwjWPUgFxQ",
        "outputId": "53b7da6b-10e8-4eeb-cf26-52912021077c"
      },
      "execution_count": null,
      "outputs": [
        {
          "output_type": "stream",
          "name": "stdout",
          "text": [
            "Z-score: -1.0954451150103321\n",
            "P-value: 0.27332167829229803\n",
            "Decision: Fail to reject the null hypothesis\n"
          ]
        }
      ]
    },
    {
      "cell_type": "markdown",
      "source": [
        "2.Simulate random data to perform hypothesis testing and calculaate the corresponding P-value using Python."
      ],
      "metadata": {
        "id": "QDpwuQxp7RcI"
      }
    },
    {
      "cell_type": "code",
      "source": [
        "import numpy as np\n",
        "from scipy import stats\n",
        "\n",
        "np.random.seed(42)\n",
        "data = np.random.normal(loc=50, scale=10, size=30)\n",
        "\n",
        "t_statistic, p_value = stats.ttest_1samp(data, popmean=55)\n",
        "\n",
        "\n",
        "print(\"P-value:\", p_value)\n",
        "\n",
        "if p_value < 0.05:\n",
        "    print(\"Reject the null hypothesis\")\n",
        "else:\n",
        "    print(\"Fail to reject the null hypothesis\")"
      ],
      "metadata": {
        "id": "RM24y5bHhxX2",
        "colab": {
          "base_uri": "https://localhost:8080/"
        },
        "outputId": "d70dc905-81d6-4717-b53c-d2443f719c46"
      },
      "execution_count": 3,
      "outputs": [
        {
          "output_type": "stream",
          "name": "stdout",
          "text": [
            "P-value: 0.00023965836838861376\n",
            "Reject the null hypothesis\n"
          ]
        }
      ]
    },
    {
      "cell_type": "markdown",
      "source": [
        "3.Implement a one-sample Z-test using Python to compare the sample mean with the population mean."
      ],
      "metadata": {
        "id": "6RKZUzkh7RO3"
      }
    },
    {
      "cell_type": "code",
      "source": [
        "# prompt: 3.Implement a one-sample Z-test using Python to compare the sample mean with the population mean.\n",
        "\n",
        "from scipy.stats import norm\n",
        "import numpy as np\n",
        "\n",
        "def one_sample_z_test(sample_data, population_mean, population_std, alpha=0.05):\n",
        "    \"\"\"\n",
        "    Performs a one-sample Z-test.\n",
        "\n",
        "    Args:\n",
        "        sample_data: A list or numpy array of sample data.\n",
        "        population_mean: The hypothesized population mean.\n",
        "        population_std: The population standard deviation.\n",
        "        alpha: The significance level (default is 0.05).\n",
        "\n",
        "    Returns:\n",
        "        A dictionary containing the Z-score, p-value, and test result.\n",
        "    \"\"\"\n",
        "\n",
        "    sample_mean = np.mean(sample_data)\n",
        "    sample_size = len(sample_data)\n",
        "    z_score = (sample_mean - population_mean) / (population_std / np.sqrt(sample_size))\n",
        "    p_value = 2 * (1 - norm.cdf(abs(z_score)))  # Two-tailed test\n",
        "\n",
        "    result = \"Reject the null hypothesis\" if p_value < alpha else \"Fail to reject the null hypothesis\"\n",
        "\n",
        "    return {\"z_score\": z_score, \"p_value\": p_value, \"result\": result}\n",
        "\n",
        "# Example usage\n",
        "sample_data = [45, 52, 48, 55, 50, 49, 53, 47, 51, 54]\n",
        "population_mean = 50\n",
        "population_std = 5\n",
        "\n",
        "test_result = one_sample_z_test(sample_data, population_mean, population_std)\n",
        "test_result"
      ],
      "metadata": {
        "id": "zDbrPCiZf6-M",
        "colab": {
          "base_uri": "https://localhost:8080/"
        },
        "outputId": "335c0ab4-d0a2-487e-d954-9c1f8b00cfb3"
      },
      "execution_count": 16,
      "outputs": [
        {
          "output_type": "execute_result",
          "data": {
            "text/plain": [
              "{'z_score': 0.25298221281346944,\n",
              " 'p_value': 0.8002819583293623,\n",
              " 'result': 'Fail to reject the null hypothesis'}"
            ]
          },
          "metadata": {},
          "execution_count": 16
        }
      ]
    },
    {
      "cell_type": "markdown",
      "source": [
        "4.Perform a two-tailed Z-test using Python and visualize the decision region on a plot."
      ],
      "metadata": {
        "id": "dw-jh0737RBn"
      }
    },
    {
      "cell_type": "code",
      "source": [
        "import matplotlib.pyplot as plt\n",
        "from scipy.stats import norm\n",
        "\n",
        "def plot_z_test(z_score, aplha=0.05):\n",
        "    critical_value = norm.ppf(1 - aplha / 2)\n",
        "    x = np.linspace(-4, 4, 100)\n",
        "    y = norm.pdf(x)\n",
        "\n",
        "\n",
        "    plt.plot(x, y, label='Standard Normal Distribution')\n",
        "    plt.axvline(-critical_value, color='r', linestyle='--', label='Decision Region')\n",
        "    plt.axvline(critical_value, color='r', linestyle='--')\n",
        "    plt.axvline(z_score, color=\"blue\", linestyle=\"-\", label=f\"Z-score: {z_score}\") # Fixed typo: lable to label\n",
        "    plt.fill_between(x, y, where=(x < -critical_value) | (x > critical_value), color='gray', alpha=0.5)\n",
        "    plt.legend()\n",
        "    plt.title('Two-Tailed Z-Test')\n",
        "    plt.xlabel('Z-score')\n",
        "    plt.ylabel('Probability Density')\n",
        "    plt.show()\n",
        "\n",
        "# Calculate z_score before calling the function\n",
        "# Example: Assuming you have sample_mean, population_mean, population_std, sample_size from previous calculations\n",
        "sample_mean = 50  # Example value\n",
        "population_mean = 52  # Example value\n",
        "population_std = 10  # Example value\n",
        "sample_size = 30  # Example value\n",
        "\n",
        "z_score = (sample_mean - population_mean) / (population_std / np.sqrt(sample_size))\n",
        "\n",
        "plot_z_test(z_score)"
      ],
      "metadata": {
        "id": "919kP_ELf6d7",
        "colab": {
          "base_uri": "https://localhost:8080/",
          "height": 472
        },
        "outputId": "e457c723-8e56-44e1-8545-1b04516221b0"
      },
      "execution_count": 8,
      "outputs": [
        {
          "output_type": "display_data",
          "data": {
            "text/plain": [
              "<Figure size 640x480 with 1 Axes>"
            ],
            "image/png": "[encoded data removed]"
          },
          "metadata": {}
        }
      ]
    },
    {
      "cell_type": "markdown",
      "source": [
        "5.Create a Python function that calculation and visualizes Type-1 and Type-2 errors during hypothesis testing."
      ],
      "metadata": {
        "id": "z5IpMRfm7Qxt"
      }
    },
    {
      "cell_type": "code",
      "source": [
        "# prompt: 5.Create a Python function that calculation and visualizes Type-1 and Type-2 errors during hypothesis testing.\n",
        "\n",
        "def visualize_errors(true_mean, sample_size, alpha=0.05, num_simulations=1000):\n",
        "    # Simulate data under the null hypothesis\n",
        "    simulated_means_null = [np.mean(np.random.normal(loc=true_mean, scale=1, size=sample_size)) for _ in range(num_simulations)]\n",
        "\n",
        "    # Critical values for Type-I error\n",
        "    critical_value = norm.ppf(1 - alpha / 2)\n",
        "\n",
        "    # Calculate Type-I error rate\n",
        "    type_i_error_count = sum(1 for mean in simulated_means_null if abs((mean - true_mean) / (1 / np.sqrt(sample_size))) > critical_value)\n",
        "    type_i_error_rate = type_i_error_count / num_simulations\n",
        "\n",
        "    # Simulate data under the alternative hypothesis\n",
        "    true_mean_alt = true_mean + 0.5 # Example alternative mean\n",
        "    simulated_means_alt = [np.mean(np.random.normal(loc=true_mean_alt, scale=1, size=sample_size)) for _ in range(num_simulations)]\n",
        "\n",
        "    # Calculate Type-II error rate\n",
        "    type_ii_error_count = sum(1 for mean in simulated_means_alt if abs((mean - true_mean) / (1 / np.sqrt(sample_size))) <= critical_value)\n",
        "    type_ii_error_rate = type_ii_error_count / num_simulations\n",
        "\n",
        "    # Visualization\n",
        "    plt.figure(figsize=(10, 6))\n",
        "\n",
        "    plt.hist(simulated_means_null, bins=30, alpha=0.5, label=\"Null Hypothesis Distribution\")\n",
        "    plt.hist(simulated_means_alt, bins=30, alpha=0.5, label=\"Alternative Hypothesis Distribution\")\n",
        "\n",
        "    plt.axvline(x=true_mean + critical_value * (1 / np.sqrt(sample_size)), color='r', linestyle='--', label=f'Critical Value')\n",
        "    plt.axvline(x=true_mean - critical_value * (1 / np.sqrt(sample_size)), color='r', linestyle='--')\n",
        "\n",
        "\n",
        "    plt.xlabel(\"Sample Mean\")\n",
        "    plt.ylabel(\"Frequency\")\n",
        "    plt.title(\"Type I and Type II Error Visualization\")\n",
        "    plt.legend()\n",
        "    plt.show()\n",
        "\n",
        "    print(f\"Type I Error Rate (alpha): {type_i_error_rate:.4f}\")\n",
        "    print(f\"Type II Error Rate (beta): {type_ii_error_rate:.4f}\")\n",
        "\n",
        "\n",
        "# Example usage\n",
        "visualize_errors(true_mean=5, sample_size=30)"
      ],
      "metadata": {
        "id": "Qb95l43Tf6AJ",
        "colab": {
          "base_uri": "https://localhost:8080/",
          "height": 599
        },
        "outputId": "1f921716-7966-47b5-8087-5978115d46b2"
      },
      "execution_count": 15,
      "outputs": [
        {
          "output_type": "display_data",
          "data": {
            "text/plain": [
              "<Figure size 1000x600 with 1 Axes>"
            ],
            "image/png": "[encoded data removed]"
          },
          "metadata": {}
        },
        {
          "output_type": "stream",
          "name": "stdout",
          "text": [
            "Type I Error Rate (alpha): 0.0490\n",
            "Type II Error Rate (beta): 0.2310\n"
          ]
        }
      ]
    },
    {
      "cell_type": "markdown",
      "source": [
        "6.Write a Python program to perform an independent t-test and interpret the results."
      ],
      "metadata": {
        "id": "IyfEFi257QeM"
      }
    },
    {
      "cell_type": "code",
      "source": [
        "from scipy.stats import ttest_ind\n",
        "\n",
        "data1 = np.random.normal(100, 15, 30)\n",
        "data2 = np.random.normal(105, 15, 30)\n",
        "\n",
        "t_statistic, p_value = ttest_ind(data1, data2)\n",
        "\n",
        "print(f\"T-statistic: {t_statistic}\")\n",
        "print(f\"P-value: {p_value}\")\n",
        "\n",
        ""
      ],
      "metadata": {
        "id": "3zgixUZ3f5i6",
        "colab": {
          "base_uri": "https://localhost:8080/"
        },
        "outputId": "caf937a3-131c-43ad-eab6-b4bd267f7541"
      },
      "execution_count": 9,
      "outputs": [
        {
          "output_type": "stream",
          "name": "stdout",
          "text": [
            "T-statistic: -1.8816126729818874\n",
            "P-value: 0.06491008892213236\n"
          ]
        }
      ]
    },
    {
      "cell_type": "markdown",
      "source": [
        "7.Perform a paired sample T-test using Python and visualize the comparison results."
      ],
      "metadata": {
        "id": "UolVa3G27QP6"
      }
    },
    {
      "cell_type": "code",
      "source": [
        "from scipy.stats import ttest_rel\n",
        "\n",
        "data1 = np.random.normal(100, 15, 30)\n",
        "data2 = data1 + np.random.normal(0, 15, 30)\n",
        "\n",
        "t_statistic, p_value = ttest_rel(data1, data2)\n",
        "\n",
        "print(f\"T-statistic: {t_statistic}\")\n",
        "print(f\"P-value: {p_value}\")"
      ],
      "metadata": {
        "id": "bPwAxozGf5JD",
        "colab": {
          "base_uri": "https://localhost:8080/"
        },
        "outputId": "103b31c7-8ef7-4827-9635-24ea73f7d4e6"
      },
      "execution_count": 10,
      "outputs": [
        {
          "output_type": "stream",
          "name": "stdout",
          "text": [
            "T-statistic: 0.5078374763470698\n",
            "P-value: 0.6154083448121044\n"
          ]
        }
      ]
    },
    {
      "cell_type": "markdown",
      "source": [
        "8.Simualte data perform both Z-test and T-test, then compare the result using Python."
      ],
      "metadata": {
        "id": "jz4AP-6w7QC5"
      }
    },
    {
      "cell_type": "code",
      "source": [
        "import numpy as np\n",
        "from scipy import stats\n",
        "from scipy.stats import norm\n",
        "\n",
        "# Simulate data\n",
        "np.random.seed(42)  # For reproducibility\n",
        "data = np.random.normal(loc=50, scale=10, size=30)\n",
        "\n",
        "# Population parameters (assumed known for Z-test)\n",
        "population_mean = 50\n",
        "population_std = 10\n",
        "\n",
        "# Z-test\n",
        "z_score = (np.mean(data) - population_mean) / (population_std / np.sqrt(len(data)))\n",
        "p_value_z = 2 * (1 - norm.cdf(abs(z_score)))  # Two-tailed test\n",
        "\n",
        "# T-test\n",
        "t_statistic, p_value_t = stats.ttest_1samp(data, popmean=population_mean)\n",
        "\n",
        "# Print and compare results\n",
        "print(\"Z-test:\")\n",
        "print(f\"  Z-score: {z_score}\")\n",
        "print(f\"  P-value: {p_value_z}\")\n",
        "\n",
        "print(\"\\nT-test:\")\n",
        "print(f\"  T-statistic: {t_statistic}\")\n",
        "print(f\"  P-value: {p_value_t}\")\n",
        "\n",
        "print(\"\\nComparison:\")\n",
        "if p_value_z < 0.05 and p_value_t < 0.05:\n",
        "    print(\"  Both Z-test and T-test reject the null hypothesis.\")\n",
        "elif p_value_z >= 0.05 and p_value_t >= 0.05:\n",
        "    print(\"  Both Z-test and T-test fail to reject the null hypothesis.\")\n",
        "else:\n",
        "    print(\"  Z-test and T-test have different conclusions.\")"
      ],
      "metadata": {
        "colab": {
          "base_uri": "https://localhost:8080/"
        },
        "id": "QgDY88gFXhvd",
        "outputId": "43eae594-8dd8-4df6-feb5-360e283e80ce"
      },
      "execution_count": 14,
      "outputs": [
        {
          "output_type": "stream",
          "name": "stdout",
          "text": [
            "Z-test:\n",
            "  Z-score: -1.0305229898218837\n",
            "  P-value: 0.3027645658813325\n",
            "\n",
            "T-test:\n",
            "  T-statistic: -1.145017367038331\n",
            "  P-value: 0.2615641461880146\n",
            "\n",
            "Comparison:\n",
            "  Both Z-test and T-test fail to reject the null hypothesis.\n"
          ]
        }
      ]
    },
    {
      "cell_type": "markdown",
      "source": [
        "9.Write a Python function to calculate the cinfidence the interval for a sample mean and explain its significance."
      ],
      "metadata": {
        "id": "CkvoQKvj7P1n"
      }
    },
    {
      "cell_type": "code",
      "source": [
        "import numpy as np\n",
        "from scipy import stats\n",
        "\n",
        "def confidence_interval(sample, confidence_level=0.95):\n",
        "    mean = np.mean(sample)\n",
        "    se = stats.sem(sample)\n",
        "    maegin_of_error = se * stats.t.ppf((1 + confidence_level) / 2, len(sample) - 1)\n",
        "    return mean - maegin_of_error, mean + maegin_of_error\n",
        "\n",
        "sample = np.random.normal(70, 10, 50)\n",
        "ci = confidence_interval(sample)\n",
        "print(f\"Confidence interval: {ci}\")"
      ],
      "metadata": {
        "colab": {
          "base_uri": "https://localhost:8080/"
        },
        "id": "CGiKALCfW30N",
        "outputId": "eaf2bed2-6fcd-4453-d6a6-46e612080f35"
      },
      "execution_count": null,
      "outputs": [
        {
          "output_type": "stream",
          "name": "stdout",
          "text": [
            "Confidence interval: (67.61974913185354, 72.82271792412924)\n"
          ]
        }
      ]
    },
    {
      "cell_type": "markdown",
      "source": [
        "10.Write a Python program to calculate the margin of error for a given confidence level using sample data."
      ],
      "metadata": {
        "id": "Z0wpsUV-7PpZ"
      }
    },
    {
      "cell_type": "code",
      "source": [
        "from math import sqrt\n",
        "from scipy.stats import norm\n",
        "\n",
        "def margin_of_error(sample_size, confidence_level, population_std):\n",
        "    z_score = norm.ppf(1 - (1 - confidence_level) / 2)\n",
        "    margin = z_score * (population_std / sqrt(sample_size))\n",
        "    return margin\n",
        "\n",
        "\n",
        "sample_size = 30\n",
        "confidence_level = 0.95\n",
        "population_std = 10\n",
        "\n",
        "margin = margin_of_error(sample_size, confidence_level, population_std)\n",
        "print(f\"Margin of Error: {margin}\")"
      ],
      "metadata": {
        "id": "DkrhAWFTf8xT",
        "colab": {
          "base_uri": "https://localhost:8080/"
        },
        "outputId": "aaf41f8f-14b8-4ca6-f075-5704479db952"
      },
      "execution_count": 17,
      "outputs": [
        {
          "output_type": "stream",
          "name": "stdout",
          "text": [
            "Margin of Error: 3.5783882874343145\n"
          ]
        }
      ]
    },
    {
      "cell_type": "markdown",
      "source": [
        "11.Implement a Bayesian inference method using Bayes' Theorem in Python and explain the process."
      ],
      "metadata": {
        "id": "ntKwAPcA7PbW"
      }
    },
    {
      "cell_type": "code",
      "source": [
        "def bayesian_inference(prior_prob, likelihood, evidence):\n",
        "    posterior_prob = (likelihood * prior_prob) / evidence\n",
        "    return posterior_prob\n",
        "\n",
        "prior = 0.3\n",
        "likelihood = 0.8\n",
        "evidence = 0.5\n",
        "\n",
        "posterior = bayesian_inference(prior, likelihood, evidence)\n",
        "print(f\"Posterior Probability: {posterior}\")"
      ],
      "metadata": {
        "id": "nsjQa1vHf9K-",
        "colab": {
          "base_uri": "https://localhost:8080/"
        },
        "outputId": "288f42ba-a8ab-480c-b93f-8e11cede1c32"
      },
      "execution_count": 18,
      "outputs": [
        {
          "output_type": "stream",
          "name": "stdout",
          "text": [
            "Posterior Probability: 0.48\n"
          ]
        }
      ]
    },
    {
      "cell_type": "markdown",
      "source": [
        "12.Perform a Chi-square test for independence between two categorical variable in Python."
      ],
      "metadata": {
        "id": "wjsySG6Q7PJ6"
      }
    },
    {
      "cell_type": "code",
      "source": [
        "import pandas as pd\n",
        "from scipy.stats import chi2_contingency\n",
        "\n",
        "data = [[50, 30], [20, 40]]\n",
        "df = pd.DataFrame(data, columns=['Category A', 'Category B'], index=['Group 1', 'Group 2'])\n",
        "\n",
        "chi2, p, dof, expected = chi2_contingency(df)\n",
        "\n",
        "print(f\"Chi-square statistic: {chi2}\")\n",
        "print(f\"P-value: {p}\")\n",
        "print(f\"Degrees of freedom: {dof}\")\n",
        "print(\"Expected frequencies:\")\n",
        "print(expected)"
      ],
      "metadata": {
        "id": "cZU_Xwc8f-De",
        "colab": {
          "base_uri": "https://localhost:8080/"
        },
        "outputId": "9be9a349-a486-4a5a-b531-1bef2f6f61a1"
      },
      "execution_count": 19,
      "outputs": [
        {
          "output_type": "stream",
          "name": "stdout",
          "text": [
            "Chi-square statistic: 10.529166666666667\n",
            "P-value: 0.0011750518530845063\n",
            "Degrees of freedom: 1\n",
            "Expected frequencies:\n",
            "[[40. 40.]\n",
            " [30. 30.]]\n"
          ]
        }
      ]
    },
    {
      "cell_type": "markdown",
      "source": [
        "13.Write a Python Pprogram to calculate the expected frequencies for Chi-square test based in observed data."
      ],
      "metadata": {
        "id": "YRo0OY0I7O98"
      }
    },
    {
      "cell_type": "code",
      "source": [
        "def calculate_expected_frequencies(observed_frequencies):\n",
        "  row_totals = observed.sum(axis=1)\n",
        "  col_totals = observed.sum(axis=0)\n",
        "  grand_total = observed.sum().sum()\n",
        "\n",
        "  expected = np.outer(row_totals, col_totals) / grand_total\n",
        "  return expected\n",
        "\n",
        "import numpy as np\n",
        "observed = np.array([[10, 20, 30], [6, 9, 17]])\n",
        "expected = calculate_expected_frequencies(observed)\n",
        "print(expected)"
      ],
      "metadata": {
        "id": "HBi_deJef-ie",
        "colab": {
          "base_uri": "https://localhost:8080/"
        },
        "outputId": "9d16c8fa-9959-4158-afd8-b0d250dbc2b7"
      },
      "execution_count": 20,
      "outputs": [
        {
          "output_type": "stream",
          "name": "stdout",
          "text": [
            "[[10.43478261 18.91304348 30.65217391]\n",
            " [ 5.56521739 10.08695652 16.34782609]]\n"
          ]
        }
      ]
    },
    {
      "cell_type": "markdown",
      "source": [
        "14.Perform a goodness-of-fit test using Python to compare the observed data to an expected distribution."
      ],
      "metadata": {
        "id": "sn_56YN-7OxO"
      }
    },
    {
      "cell_type": "code",
      "source": [
        "from scipy.stats import chisquare\n",
        "import numpy as np\n",
        "\n",
        "observed = np.array([10, 20, 30])\n",
        "# Expected frequencies should sum to the same total as observed frequencies (60 in this case)\n",
        "# Assuming you want expected proportions of 0.3, 0.3, and 0.4\n",
        "expected = np.array([0.3, 0.3, 0.4]) * observed.sum()\n",
        "\n",
        "chi2, p = chisquare(f_obs=observed, f_exp=expected)\n",
        "print(f\"Chi-square statistic: {chi2}\")\n",
        "print(f\"P-value: {p}\")"
      ],
      "metadata": {
        "id": "64fPHO1sf_mM",
        "colab": {
          "base_uri": "https://localhost:8080/"
        },
        "outputId": "bd58a971-3d02-4dd1-d67a-d05562b11add"
      },
      "execution_count": 22,
      "outputs": [
        {
          "output_type": "stream",
          "name": "stdout",
          "text": [
            "Chi-square statistic: 5.277777777777778\n",
            "P-value: 0.07144060392237897\n"
          ]
        }
      ]
    },
    {
      "cell_type": "markdown",
      "source": [
        "15.Create a Python script to simulate and visualize the Chi-square distribution and discuss its characteristic."
      ],
      "metadata": {
        "id": "YH8C-vLB7Oi5"
      }
    },
    {
      "cell_type": "code",
      "source": [
        "import numpy as np\n",
        "import matplotlib.pyplot as plt\n",
        "from scipy.stats import chi2\n",
        "\n",
        "df = 10\n",
        "x = np.linspace(0, 30, 1000)\n",
        "y = chi2.pdf(x, df)\n",
        "\n",
        "plt.plot(x, y, label=f'Chi-square df={df}')\n",
        "plt.xlabel('Chi-square Statistic')\n",
        "plt.ylabel('Probability Density')\n",
        "plt.title('Chi-square Distribution')\n",
        "plt.legend()\n",
        "plt.show()"
      ],
      "metadata": {
        "id": "XzxbL1HggATa",
        "colab": {
          "base_uri": "https://localhost:8080/",
          "height": 472
        },
        "outputId": "25e379c9-79c7-4193-e8a3-658e1954b768"
      },
      "execution_count": 24,
      "outputs": [
        {
          "output_type": "display_data",
          "data": {
            "text/plain": [
              "<Figure size 640x480 with 1 Axes>"
            ],
            "image/png": "[encoded data removed]"
          },
          "metadata": {}
        }
      ]
    },
    {
      "cell_type": "markdown",
      "source": [
        "16.Implement an F-test using Python to campare the variance of two random samples."
      ],
      "metadata": {
        "id": "xwe-CWfh7OWX"
      }
    },
    {
      "cell_type": "code",
      "source": [
        "from scipy.stats import f\n",
        "\n",
        "def f_test(var1, var2, n1, n2):\n",
        "    f_statistic = var1 / var2 if var1 > var2 else var2 / var1\n",
        "    df1 = n1 - 1\n",
        "    df2 = n2 - 1\n",
        "    p_value = f.cdf(f_statistic, df1, df2)\n",
        "    return f_statistic, p_value\n",
        "\n",
        "var1, var2 = 10, 15\n",
        "n1, n2 = 30, 30\n",
        "\n",
        "f_statistic, p_value = f_test(var1, var2, n1, n2)\n",
        "print(f\"F-statistic: {f_statistic}\")\n",
        "print(f\"P-value: {p_value}\")"
      ],
      "metadata": {
        "id": "1PruQ8j8gApG",
        "colab": {
          "base_uri": "https://localhost:8080/"
        },
        "outputId": "32ce74b6-e2f9-4d78-8ce5-acb6505c9b59"
      },
      "execution_count": 25,
      "outputs": [
        {
          "output_type": "stream",
          "name": "stdout",
          "text": [
            "F-statistic: 1.5\n",
            "P-value: 0.8596476761767227\n"
          ]
        }
      ]
    },
    {
      "cell_type": "markdown",
      "source": [
        "17.Write a Python program tp perform an ANOVA test to compare means between multiple groups and interpret the results."
      ],
      "metadata": {
        "id": "G-5j8xtv7OHk"
      }
    },
    {
      "cell_type": "code",
      "source": [
        "import pandas as pd\n",
        "from scipy.stats import f_oneway\n",
        "\n",
        "data = {\n",
        "    \"Group A\": [5, 10, 15],\n",
        "    \"Group B\": [10, 20, 30],\n",
        "    \"Group C\": [20, 25, 35],\n",
        "}\n",
        "\n",
        "df = pd.DataFrame(data)\n",
        "\n",
        "f_statistic, p_value = f_oneway(*[df[col] for col in df.columns])\n",
        "\n",
        "print(f\"F-statistic: {f_statistic}\")\n",
        "print(f\"P-value: {p_value}\")"
      ],
      "metadata": {
        "id": "8grhduRFgBbs",
        "colab": {
          "base_uri": "https://localhost:8080/"
        },
        "outputId": "a9499d28-aef0-4f50-f426-01e7f1b3c9a0"
      },
      "execution_count": 26,
      "outputs": [
        {
          "output_type": "stream",
          "name": "stdout",
          "text": [
            "F-statistic: 3.4545454545454537\n",
            "P-value: 0.1004076432409175\n"
          ]
        }
      ]
    },
    {
      "cell_type": "markdown",
      "source": [
        "18.Perform a one-way ANOVA test using Python to compare the means of different groups and plot the results."
      ],
      "metadata": {
        "id": "RQ_Juerk7N73"
      }
    },
    {
      "cell_type": "code",
      "source": [
        "import seaborn as sns\n",
        "import matplotlib.pyplot as plt\n",
        "\n",
        "df_melt = df.melt(var_name='Group', value_name='Value')\n",
        "sns.boxplot(x='Group', y='Value', data=df_melt)\n",
        "plt.title('One-Way ANOVA Boxplot')\n",
        "plt.show()"
      ],
      "metadata": {
        "id": "JtjUafusgC-T",
        "colab": {
          "base_uri": "https://localhost:8080/",
          "height": 472
        },
        "outputId": "a0d8d5ab-30f0-4377-a1b5-48471993c9f0"
      },
      "execution_count": 27,
      "outputs": [
        {
          "output_type": "display_data",
          "data": {
            "text/plain": [
              "<Figure size 640x480 with 1 Axes>"
            ],
            "image/png": "[encoded data removed]"
          },
          "metadata": {}
        }
      ]
    },
    {
      "cell_type": "markdown",
      "source": [
        "19.Write a Python function to check the assumptions (normality, independence, and equal variance) for ANOVA."
      ],
      "metadata": {
        "id": "y_r8HWbJ7NuE"
      }
    },
    {
      "cell_type": "code",
      "source": [
        "from scipy.stats import shapiro, levene\n",
        "\n",
        "def check_anova_assumptions(data):\n",
        "    for group, values in data.items():\n",
        "      stats, p = shapiro(values)\n",
        "      print(f\"Shapiro-Wilk Test for {group}:\")\n",
        "      print(f\"  Statistic: {stats}\")\n",
        "      print(f\"  P-value: {p}\")\n",
        "\n",
        "check_anova_assumptions(data)\n",
        ""
      ],
      "metadata": {
        "id": "1XW1hMnwgDds",
        "colab": {
          "base_uri": "https://localhost:8080/"
        },
        "outputId": "9faf9fc7-a6a0-4a05-9c98-4eb0fc5b86fb"
      },
      "execution_count": 30,
      "outputs": [
        {
          "output_type": "stream",
          "name": "stdout",
          "text": [
            "Shapiro-Wilk Test for Group A:\n",
            "  Statistic: 1.0\n",
            "  P-value: 1.0\n",
            "Shapiro-Wilk Test for Group B:\n",
            "  Statistic: 1.0\n",
            "  P-value: 1.0\n",
            "Shapiro-Wilk Test for Group C:\n",
            "  Statistic: 0.9642857142857142\n",
            "  P-value: 0.6368868450289689\n"
          ]
        }
      ]
    },
    {
      "cell_type": "markdown",
      "source": [
        "20.Perform a two-way ANOVA test using Python to  study the interaction between two factors and visualize the results."
      ],
      "metadata": {
        "id": "6Lk5nwVn7NeM"
      }
    },
    {
      "cell_type": "code",
      "source": [
        "# prompt: 27.Perform a Chi-square test for goodness of fit with simulated data and analyze the results.\n",
        "\n",
        "import numpy as np\n",
        "from scipy.stats import chisquare\n",
        "\n",
        "# Simulate observed data (replace with your actual data)\n",
        "observed_frequencies = np.array([25, 30, 45])  # Example observed frequencies\n",
        "\n",
        "# Define the expected distribution (replace with your expected distribution)\n",
        "expected_proportions = np.array([0.2, 0.3, 0.5])  # Example expected proportions\n",
        "total_observations = observed_frequencies.sum()\n",
        "expected_frequencies = expected_proportions * total_observations\n",
        "\n",
        "\n",
        "# Perform the Chi-square goodness of fit test\n",
        "chi2_statistic, p_value = chisquare(observed_frequencies, f_exp=expected_frequencies)\n",
        "\n",
        "# Print the results\n",
        "print(f\"Chi-square Statistic: {chi2_statistic}\")\n",
        "print(f\"P-value: {p_value}\")\n",
        "\n",
        "\n",
        "# Interpret the results\n",
        "alpha = 0.05\n",
        "if p_value < alpha:\n",
        "    print(\"Reject the null hypothesis: The observed data does not fit the expected distribution.\")\n",
        "else:\n",
        "    print(\"Fail to reject the null hypothesis: The observed data fits the expected distribution.\")"
      ],
      "metadata": {
        "colab": {
          "base_uri": "https://localhost:8080/"
        },
        "id": "DrMKQCBz4Tgb",
        "outputId": "977f996b-419a-4050-dc0f-8696cdb57e41"
      },
      "execution_count": 45,
      "outputs": [
        {
          "output_type": "stream",
          "name": "stdout",
          "text": [
            "Chi-square Statistic: 1.75\n",
            "P-value: 0.41686201967850856\n",
            "Fail to reject the null hypothesis: The observed data fits the expected distribution.\n"
          ]
        }
      ]
    },
    {
      "cell_type": "markdown",
      "source": [
        "21.Write  Python program to visualize the F-distribution and discuss its use in hypothesis testing."
      ],
      "metadata": {
        "id": "8bd6BcI37NPo"
      }
    },
    {
      "cell_type": "code",
      "source": [
        "import numpy as np\n",
        "import matplotlib.pyplot as plt\n",
        "from scipy.stats import f\n",
        "\n",
        "# Define the degrees of freedom\n",
        "dfn = 10  # Degrees of freedom for the numerator\n",
        "dfd = 20  # Degrees of freedom for the denominator\n",
        "\n",
        "# Generate x-values for the plot\n",
        "x = np.linspace(0, 5, 1000)\n",
        "\n",
        "# Calculate the probability density function (pdf)\n",
        "y = f.pdf(x, dfn, dfd)\n",
        "\n",
        "# Create the plot\n",
        "plt.plot(x, y, label=f'F-distribution (dfn={dfn}, dfd={dfd})')\n",
        "plt.xlabel('F-statistic')\n",
        "plt.ylabel('Probability Density')\n",
        "plt.title('F-distribution Visualization')\n",
        "plt.legend()\n",
        "plt.show()"
      ],
      "metadata": {
        "id": "E0aFk5opgGR1",
        "colab": {
          "base_uri": "https://localhost:8080/",
          "height": 472
        },
        "outputId": "dff64cbc-acbd-4e3f-d2eb-fa7bd351de77"
      },
      "execution_count": 31,
      "outputs": [
        {
          "output_type": "display_data",
          "data": {
            "text/plain": [
              "<Figure size 640x480 with 1 Axes>"
            ],
            "image/png": "[encoded data removed]"
          },
          "metadata": {}
        }
      ]
    },
    {
      "cell_type": "markdown",
      "source": [
        "22.Perform a one-way ANOVA test in Python and visualize the results with boxplot to compare group means."
      ],
      "metadata": {
        "id": "g2J9wsuG7NBk"
      }
    },
    {
      "cell_type": "code",
      "source": [
        "\n",
        "\n",
        "import pandas as pd\n",
        "import statsmodels.formula.api as sm\n",
        "import seaborn as sns\n",
        "import matplotlib.pyplot as plt\n",
        "from scipy.stats import f_oneway\n",
        "\n",
        "# Sample data (replace with your actual data)\n",
        "data = {'Group1': [10, 12, 15, 14, 16],\n",
        "        'Group2': [18, 20, 22, 19, 21],\n",
        "        'Group3': [25, 28, 24, 26, 27]}\n",
        "df = pd.DataFrame(data)\n",
        "\n",
        "# Perform one-way ANOVA\n",
        "f_statistic, p_value = f_oneway(*[df[col] for col in df.columns])\n",
        "print(f\"F-statistic: {f_statistic}\")\n",
        "print(f\"P-value: {p_value}\")\n",
        "\n",
        "# Melt the dataframe for boxplot\n",
        "df_melt = df.melt(var_name='Group', value_name='Value')\n",
        "\n",
        "# Create boxplot\n",
        "sns.boxplot(x='Group', y='Value', data=df_melt)\n",
        "plt.title('One-Way ANOVA Boxplot')\n",
        "plt.show()"
      ],
      "metadata": {
        "id": "NzLYwx8WgJZr",
        "colab": {
          "base_uri": "https://localhost:8080/",
          "height": 507
        },
        "outputId": "9d309ba1-7160-40e1-bf87-c91c92f26bd9"
      },
      "execution_count": 38,
      "outputs": [
        {
          "output_type": "stream",
          "name": "stdout",
          "text": [
            "F-statistic: 55.1666666666666\n",
            "P-value: 8.908787893748237e-07\n"
          ]
        },
        {
          "output_type": "display_data",
          "data": {
            "text/plain": [
              "<Figure size 640x480 with 1 Axes>"
            ],
            "image/png": "[encoded data removed]"
          },
          "metadata": {}
        }
      ]
    },
    {
      "cell_type": "markdown",
      "source": [
        "23.simulate random data from a normal distribution, then perform hypothrsis testing to evaluate the means."
      ],
      "metadata": {
        "id": "syigMd8p7Mzy"
      }
    },
    {
      "cell_type": "code",
      "source": [
        "\n",
        "np.random.seed(0)  # for reproducibility\n",
        "sample1 = np.random.normal(loc=10, scale=2, size=50)\n",
        "sample2 = np.random.normal(loc=12, scale=2, size=50)\n",
        "\n",
        "# Perform an independent samples t-test\n",
        "t_statistic, p_value = ttest_ind(sample1, sample2)\n",
        "\n",
        "print(f\"T-statistic: {t_statistic}\")\n",
        "print(f\"P-value: {p_value}\")\n",
        "\n",
        "# Interpret the results\n",
        "alpha = 0.05\n",
        "if p_value < alpha:\n",
        "    print(\"Reject the null hypothesis: There is a significant difference in means.\")\n",
        "else:\n",
        "    print(\"Fail to reject the null hypothesis: No significant difference in means.\")"
      ],
      "metadata": {
        "id": "a-GUSEu-gI9R",
        "colab": {
          "base_uri": "https://localhost:8080/"
        },
        "outputId": "fdb69bdd-17f4-4624-a0f2-3c9acfb26536"
      },
      "execution_count": 39,
      "outputs": [
        {
          "output_type": "stream",
          "name": "stdout",
          "text": [
            "T-statistic: -4.1311732760688\n",
            "P-value: 7.604048369144464e-05\n",
            "Reject the null hypothesis: There is a significant difference in means.\n"
          ]
        }
      ]
    },
    {
      "cell_type": "markdown",
      "source": [
        "24.Perform a hypothesis test for population variance using a Chi-square distribution and interpret the results."
      ],
      "metadata": {
        "id": "g9y604Xd7Mj6"
      }
    },
    {
      "cell_type": "code",
      "source": [
        "\n",
        "\n",
        "import numpy as np\n",
        "from scipy.stats import chi2\n",
        "\n",
        "def variance_hypothesis_test(sample, population_variance, alpha=0.05):\n",
        "    \"\"\"\n",
        "    Performs a hypothesis test for population variance using a Chi-square distribution.\n",
        "\n",
        "    Args:\n",
        "        sample: A NumPy array or list of sample data.\n",
        "        population_variance: The hypothesized population variance.\n",
        "        alpha: The significance level (default is 0.05).\n",
        "\n",
        "    Returns:\n",
        "        A dictionary containing the chi-square statistic, p-value, degrees of freedom, and test result.\n",
        "    \"\"\"\n",
        "\n",
        "    n = len(sample)\n",
        "    sample_variance = np.var(sample, ddof=1)  # Sample variance (with Bessel's correction)\n",
        "    chi2_statistic = (n - 1) * sample_variance / population_variance\n",
        "    degrees_of_freedom = n - 1\n",
        "    p_value = 1 - chi2.cdf(chi2_statistic, degrees_of_freedom)  # One-tailed test (upper tail)\n",
        "\n",
        "\n",
        "    result = \"Reject the null hypothesis\" if p_value < alpha else \"Fail to reject the null hypothesis\"\n",
        "\n",
        "    return {\n",
        "        \"chi2_statistic\": chi2_statistic,\n",
        "        \"p_value\": p_value,\n",
        "        \"df\": degrees_of_freedom,\n",
        "        \"result\": result\n",
        "    }\n",
        "\n",
        "# Example usage:\n",
        "sample_data = np.random.normal(loc=50, scale=10, size=25)  # Example sample data\n",
        "population_variance_hypothesis = 120 # Hypothesized population variance\n",
        "\n",
        "test_results = variance_hypothesis_test(sample_data, population_variance_hypothesis)\n",
        "test_results"
      ],
      "metadata": {
        "id": "O5_hobe_gIqR",
        "colab": {
          "base_uri": "https://localhost:8080/"
        },
        "outputId": "ac816c94-0837-413c-82db-6dc96a7984d2"
      },
      "execution_count": 40,
      "outputs": [
        {
          "output_type": "execute_result",
          "data": {
            "text/plain": [
              "{'chi2_statistic': 25.68479784461534,\n",
              " 'p_value': 0.3693498059638891,\n",
              " 'df': 24,\n",
              " 'result': 'Fail to reject the null hypothesis'}"
            ]
          },
          "metadata": {},
          "execution_count": 40
        }
      ]
    },
    {
      "cell_type": "markdown",
      "source": [
        "25.Write a Python script to perform a Z-test for comparing proportions between two datasets or groups."
      ],
      "metadata": {
        "id": "kc2Z3seW7MWp"
      }
    },
    {
      "cell_type": "code",
      "source": [
        "\n",
        "\n",
        "from statsmodels.stats.proportion import proportions_ztest\n",
        "\n",
        "def ztest_proportions(count1, nobs1, count2, nobs2):\n",
        "    \"\"\"\n",
        "    Performs a Z-test for comparing proportions between two groups.\n",
        "\n",
        "    Args:\n",
        "        count1: Number of successes in group 1.\n",
        "        nobs1: Total number of observations in group 1.\n",
        "        count2: Number of successes in group 2.\n",
        "        nobs2: Total number of observations in group 2.\n",
        "\n",
        "    Returns:\n",
        "        A tuple containing the Z-statistic and p-value.\n",
        "    \"\"\"\n",
        "    z_stat, p_value = proportions_ztest([count1, count2], [nobs1, nobs2])\n",
        "    return z_stat, p_value\n",
        "\n",
        "# Example usage\n",
        "count1 = 30  # Number of successes in group 1\n",
        "nobs1 = 100   # Total observations in group 1\n",
        "count2 = 40   # Number of successes in group 2\n",
        "nobs2 = 100   # Total observations in group 2\n",
        "\n",
        "z_statistic, p_value = ztest_proportions(count1, nobs1, count2, nobs2)\n",
        "\n",
        "print(f\"Z-statistic: {z_statistic}\")\n",
        "print(f\"P-value: {p_value}\")\n",
        "\n",
        "alpha = 0.05\n",
        "if p_value < alpha:\n",
        "    print(\"Reject the null hypothesis: There is a significant difference in proportions.\")\n",
        "else:\n",
        "    print(\"Fail to reject the null hypothesis: No significant difference in proportions.\")"
      ],
      "metadata": {
        "id": "I_r_NotpgIV5",
        "colab": {
          "base_uri": "https://localhost:8080/"
        },
        "outputId": "66dd63fa-5b4f-4d5a-db47-2cfe929a2183"
      },
      "execution_count": 41,
      "outputs": [
        {
          "output_type": "stream",
          "name": "stdout",
          "text": [
            "Z-statistic: -1.4824986333222028\n",
            "P-value: 0.1382076669740257\n",
            "Fail to reject the null hypothesis: No significant difference in proportions.\n"
          ]
        }
      ]
    },
    {
      "cell_type": "markdown",
      "source": [
        "26.Implement an F-test for comparing the variances of two dataset, then interpret and visualize the results."
      ],
      "metadata": {
        "id": "maKDNVc57MDJ"
      }
    },
    {
      "cell_type": "code",
      "source": [
        "\n",
        "\n",
        "def f_test_variances(data1, data2, alpha=0.05):\n",
        "    \"\"\"\n",
        "    Performs an F-test to compare the variances of two datasets.\n",
        "\n",
        "    Args:\n",
        "        data1: First dataset (list or numpy array).\n",
        "        data2: Second dataset (list or numpy array).\n",
        "        alpha: Significance level (default: 0.05).\n",
        "\n",
        "    Returns:\n",
        "        A dictionary containing the F-statistic, p-value, and test result.\n",
        "    \"\"\"\n",
        "\n",
        "    var1 = np.var(data1, ddof=1)\n",
        "    var2 = np.var(data2, ddof=1)\n",
        "    n1 = len(data1)\n",
        "    n2 = len(data2)\n",
        "\n",
        "    f_statistic = var1 / var2 if var1 >= var2 else var2 / var1  # Always put larger variance in numerator\n",
        "    df1 = n1 - 1\n",
        "    df2 = n2 - 1\n",
        "    p_value = 2 * min(f.cdf(f_statistic, df1, df2), 1 - f.cdf(f_statistic, df1, df2)) # Two-tailed test\n",
        "\n",
        "\n",
        "    result = \"Reject the null hypothesis\" if p_value < alpha else \"Fail to reject the null hypothesis\"\n",
        "\n",
        "    return {\"f_statistic\": f_statistic, \"p_value\": p_value, \"result\": result}\n",
        "\n",
        "\n",
        "# Example usage:\n",
        "data1 = np.random.normal(loc=10, scale=2, size=50)\n",
        "data2 = np.random.normal(loc=12, scale=3, size=50)  # Different variance\n",
        "\n",
        "test_results = f_test_variances(data1, data2)\n",
        "print(test_results)\n",
        "\n",
        "# Visualization\n",
        "x = np.linspace(0, 5, 1000)\n",
        "dfn = len(data1) - 1\n",
        "dfd = len(data2) - 1\n",
        "y = f.pdf(x, dfn, dfd)\n",
        "plt.plot(x, y, label=f'F-distribution (dfn={dfn}, dfd={dfd})')\n",
        "plt.axvline(x=test_results[\"f_statistic\"], color='red', linestyle='--', label=f'F-statistic = {test_results[\"f_statistic\"]:.2f}')\n",
        "plt.xlabel('F-statistic')\n",
        "plt.ylabel('Probability Density')\n",
        "plt.title('F-test for Variances')\n",
        "plt.legend()\n",
        "plt.show()"
      ],
      "metadata": {
        "id": "f7soR2mwgH_W",
        "colab": {
          "base_uri": "https://localhost:8080/",
          "height": 489
        },
        "outputId": "b8fb8061-3438-4379-966b-2bb714ca225b"
      },
      "execution_count": 42,
      "outputs": [
        {
          "output_type": "stream",
          "name": "stdout",
          "text": [
            "{'f_statistic': 2.209290118254127, 'p_value': 0.0064203606463306695, 'result': 'Reject the null hypothesis'}\n"
          ]
        },
        {
          "output_type": "display_data",
          "data": {
            "text/plain": [
              "<Figure size 640x480 with 1 Axes>"
            ],
            "image/png": "[encoded data removed]"
          },
          "metadata": {}
        }
      ]
    },
    {
      "cell_type": "markdown",
      "source": [
        "27.Perform a Chi-square test for goodness of fit with simulated data and analyze the results."
      ],
      "metadata": {
        "id": "yl0lTiTW7L27"
      }
    },
    {
      "cell_type": "code",
      "source": [
        "\n",
        "\n",
        "import numpy as np\n",
        "from scipy.stats import chisquare\n",
        "observed_frequencies = np.random.multinomial(100, [0.2, 0.3, 0.5])\n",
        "\n",
        "\n",
        "expected_frequencies = np.array([20, 30, 50])\n",
        "\n",
        "chi2_statistic, p_value = chisquare(observed_frequencies, f_exp=expected_frequencies)\n",
        "\n",
        "print(f\"Chi-square statistic: {chi2_statistic}\")\n",
        "print(f\"P-value: {p_value}\")\n",
        "\n",
        "alpha = 0.05\n",
        "if p_value < alpha:\n",
        "    print(\"Reject the null hypothesis: The observed data does not fit the expected distribution.\")\n",
        "else:\n",
        "    print(\"Fail to reject the null hypothesis: The observed data fits the expected distribution.\")"
      ],
      "metadata": {
        "id": "w0DWcR-kgHen",
        "colab": {
          "base_uri": "https://localhost:8080/"
        },
        "outputId": "5b7dbb2e-7825-4ca7-d98b-25424595fd71"
      },
      "execution_count": 44,
      "outputs": [
        {
          "output_type": "stream",
          "name": "stdout",
          "text": [
            "Chi-square statistic: 2.83\n",
            "P-value: 0.24292561344874247\n",
            "Fail to reject the null hypothesis: The observed data fits the expected distribution.\n"
          ]
        }
      ]
    }
  ]
}